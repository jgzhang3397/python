{
 "cells": [
  {
   "attachments": {},
   "cell_type": "markdown",
   "metadata": {},
   "source": [
    "## Writing to a File\n",
    "### Writing to an Empty File"
   ]
  },
  {
   "cell_type": "code",
   "execution_count": 1,
   "metadata": {},
   "outputs": [],
   "source": [
    "filename = 'programming.txt'\n",
    "\n",
    "with open(filename, 'w') as file_object:\n",
    "    file_object.write(\"I love programming.\")"
   ]
  },
  {
   "attachments": {},
   "cell_type": "markdown",
   "metadata": {},
   "source": [
    "### Writing Multiple Lines"
   ]
  },
  {
   "cell_type": "code",
   "execution_count": null,
   "metadata": {},
   "outputs": [],
   "source": [
    "filename = 'programming.txt'\n",
    "\n",
    "with open(filename, 'w') as file_object:\n",
    "    file_object.write(\"I love programming.\")\n",
    "    file_object.write(\"\\nI love play video games.\\n\")"
   ]
  },
  {
   "attachments": {},
   "cell_type": "markdown",
   "metadata": {},
   "source": [
    "### Appending to a File"
   ]
  },
  {
   "cell_type": "code",
   "execution_count": 1,
   "metadata": {},
   "outputs": [],
   "source": [
    "filename = 'programming.txt'\n",
    "# we use the 'a' argument to open the file for appending rather than writing over the existing file.\n",
    "with open(filename, 'a') as file_object:\n",
    "        # write two new lines, which are added to 'programming.txt'\n",
    "        file_object.write(\"I also love finding meaing in large datasets.\\n\")\n",
    "        file_object.write(\"I love creating apps that ca run in a browser.\\n\")"
   ]
  }
 ],
 "metadata": {
  "kernelspec": {
   "display_name": "Python 3",
   "language": "python",
   "name": "python3"
  },
  "language_info": {
   "codemirror_mode": {
    "name": "ipython",
    "version": 3
   },
   "file_extension": ".py",
   "mimetype": "text/x-python",
   "name": "python",
   "nbconvert_exporter": "python",
   "pygments_lexer": "ipython3",
   "version": "3.9.6"
  },
  "orig_nbformat": 4,
  "vscode": {
   "interpreter": {
    "hash": "31f2aee4e71d21fbe5cf8b01ff0e069b9275f58929596ceb00d14d90e3e16cd6"
   }
  }
 },
 "nbformat": 4,
 "nbformat_minor": 2
}
